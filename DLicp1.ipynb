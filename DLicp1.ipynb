{
  "nbformat": 4,
  "nbformat_minor": 0,
  "metadata": {
    "colab": {
      "name": "DLicp1.ipynb",
      "provenance": [],
      "toc_visible": true,
      "authorship_tag": "ABX9TyPaB/oc5x6EK5dDsoncSu/p",
      "include_colab_link": true
    },
    "kernelspec": {
      "name": "python3",
      "display_name": "Python 3"
    }
  },
  "cells": [
    {
      "cell_type": "markdown",
      "metadata": {
        "id": "view-in-github",
        "colab_type": "text"
      },
      "source": [
        "<a href=\"https://colab.research.google.com/github/eswarvalluru/python_ICPs/blob/master/DLicp1.ipynb\" target=\"_parent\"><img src=\"https://colab.research.google.com/assets/colab-badge.svg\" alt=\"Open In Colab\"/></a>"
      ]
    },
    {
      "cell_type": "code",
      "metadata": {
        "id": "Lbaz2X0cOM_a",
        "colab_type": "code",
        "colab": {}
      },
      "source": [
        "import pandas\n",
        "from keras.models import Sequential\n",
        "from keras.layers.core import Dense, Activation\n",
        "\n",
        "# load dataset\n",
        "from sklearn.model_selection import train_test_split\n",
        "import pandas as pd\n",
        "import numpy as np"
      ],
      "execution_count": 0,
      "outputs": []
    },
    {
      "cell_type": "code",
      "metadata": {
        "id": "AvTJ4ClQO-OA",
        "colab_type": "code",
        "colab": {}
      },
      "source": [
        "dataset = pd.read_csv(\"/content/diabetes.csv\", header=None).values"
      ],
      "execution_count": 0,
      "outputs": []
    },
    {
      "cell_type": "code",
      "metadata": {
        "id": "kbso1ZmfPBkl",
        "colab_type": "code",
        "colab": {}
      },
      "source": [
        "X_train, X_test, Y_train, Y_test = train_test_split(dataset[:,0:8], dataset[:,8],test_size=0.25, random_state=87)"
      ],
      "execution_count": 0,
      "outputs": []
    },
    {
      "cell_type": "markdown",
      "metadata": {
        "id": "Dlgz14cQPq2U",
        "colab_type": "text"
      },
      "source": [
        "# New Section"
      ]
    },
    {
      "cell_type": "code",
      "metadata": {
        "id": "JRqOotM-PEUy",
        "colab_type": "code",
        "colab": {}
      },
      "source": [
        "np.random.seed(42)"
      ],
      "execution_count": 0,
      "outputs": []
    },
    {
      "cell_type": "code",
      "metadata": {
        "id": "kRHeFUJSPUoC",
        "colab_type": "code",
        "colab": {
          "base_uri": "https://localhost:8080/",
          "height": 1000
        },
        "outputId": "b56ee56c-dccf-411b-8fc3-38fa2047fe64"
      },
      "source": [
        "my_first_nn = Sequential() # create model\n",
        "my_first_nn.add(Dense(21, input_dim=8, activation='relu')) # hidden layer\n",
        "my_first_nn.add(Dense(1, activation='sigmoid')) # output layer\n",
        "my_first_nn.compile(loss='binary_crossentropy', optimizer='adam', metrics=['acc'])\n",
        "my_first_nn_fitted = my_first_nn.fit(X_train, Y_train, epochs=100,initial_epoch=0)"
      ],
      "execution_count": 9,
      "outputs": [
        {
          "output_type": "stream",
          "text": [
            "WARNING:tensorflow:From /usr/local/lib/python3.6/dist-packages/keras/backend/tensorflow_backend.py:66: The name tf.get_default_graph is deprecated. Please use tf.compat.v1.get_default_graph instead.\n",
            "\n",
            "WARNING:tensorflow:From /usr/local/lib/python3.6/dist-packages/keras/backend/tensorflow_backend.py:541: The name tf.placeholder is deprecated. Please use tf.compat.v1.placeholder instead.\n",
            "\n",
            "WARNING:tensorflow:From /usr/local/lib/python3.6/dist-packages/keras/backend/tensorflow_backend.py:4432: The name tf.random_uniform is deprecated. Please use tf.random.uniform instead.\n",
            "\n",
            "WARNING:tensorflow:From /usr/local/lib/python3.6/dist-packages/keras/optimizers.py:793: The name tf.train.Optimizer is deprecated. Please use tf.compat.v1.train.Optimizer instead.\n",
            "\n",
            "WARNING:tensorflow:From /usr/local/lib/python3.6/dist-packages/keras/backend/tensorflow_backend.py:3657: The name tf.log is deprecated. Please use tf.math.log instead.\n",
            "\n",
            "WARNING:tensorflow:From /tensorflow-1.15.0/python3.6/tensorflow_core/python/ops/nn_impl.py:183: where (from tensorflow.python.ops.array_ops) is deprecated and will be removed in a future version.\n",
            "Instructions for updating:\n",
            "Use tf.where in 2.0, which has the same broadcast rule as np.where\n",
            "WARNING:tensorflow:From /usr/local/lib/python3.6/dist-packages/keras/backend/tensorflow_backend.py:1033: The name tf.assign_add is deprecated. Please use tf.compat.v1.assign_add instead.\n",
            "\n",
            "WARNING:tensorflow:From /usr/local/lib/python3.6/dist-packages/keras/backend/tensorflow_backend.py:1020: The name tf.assign is deprecated. Please use tf.compat.v1.assign instead.\n",
            "\n",
            "WARNING:tensorflow:From /usr/local/lib/python3.6/dist-packages/keras/backend/tensorflow_backend.py:3005: The name tf.Session is deprecated. Please use tf.compat.v1.Session instead.\n",
            "\n",
            "Epoch 1/100\n",
            "WARNING:tensorflow:From /usr/local/lib/python3.6/dist-packages/keras/backend/tensorflow_backend.py:190: The name tf.get_default_session is deprecated. Please use tf.compat.v1.get_default_session instead.\n",
            "\n",
            "WARNING:tensorflow:From /usr/local/lib/python3.6/dist-packages/keras/backend/tensorflow_backend.py:197: The name tf.ConfigProto is deprecated. Please use tf.compat.v1.ConfigProto instead.\n",
            "\n",
            "WARNING:tensorflow:From /usr/local/lib/python3.6/dist-packages/keras/backend/tensorflow_backend.py:207: The name tf.global_variables is deprecated. Please use tf.compat.v1.global_variables instead.\n",
            "\n",
            "WARNING:tensorflow:From /usr/local/lib/python3.6/dist-packages/keras/backend/tensorflow_backend.py:216: The name tf.is_variable_initialized is deprecated. Please use tf.compat.v1.is_variable_initialized instead.\n",
            "\n",
            "WARNING:tensorflow:From /usr/local/lib/python3.6/dist-packages/keras/backend/tensorflow_backend.py:223: The name tf.variables_initializer is deprecated. Please use tf.compat.v1.variables_initializer instead.\n",
            "\n",
            "576/576 [==============================] - 1s 1ms/step - loss: 4.1984 - acc: 0.5017\n",
            "Epoch 2/100\n",
            "576/576 [==============================] - 0s 46us/step - loss: 3.0817 - acc: 0.5625\n",
            "Epoch 3/100\n",
            "576/576 [==============================] - 0s 44us/step - loss: 2.4919 - acc: 0.5903\n",
            "Epoch 4/100\n",
            "576/576 [==============================] - 0s 42us/step - loss: 2.2788 - acc: 0.5833\n",
            "Epoch 5/100\n",
            "576/576 [==============================] - 0s 40us/step - loss: 2.0441 - acc: 0.6076\n",
            "Epoch 6/100\n",
            "576/576 [==============================] - 0s 38us/step - loss: 1.7931 - acc: 0.6146\n",
            "Epoch 7/100\n",
            "576/576 [==============================] - 0s 44us/step - loss: 1.5998 - acc: 0.6250\n",
            "Epoch 8/100\n",
            "576/576 [==============================] - 0s 40us/step - loss: 1.4821 - acc: 0.6059\n",
            "Epoch 9/100\n",
            "576/576 [==============================] - 0s 39us/step - loss: 1.3536 - acc: 0.6094\n",
            "Epoch 10/100\n",
            "576/576 [==============================] - 0s 37us/step - loss: 1.1903 - acc: 0.6615\n",
            "Epoch 11/100\n",
            "576/576 [==============================] - 0s 43us/step - loss: 1.0549 - acc: 0.6649\n",
            "Epoch 12/100\n",
            "576/576 [==============================] - 0s 42us/step - loss: 0.9901 - acc: 0.6493\n",
            "Epoch 13/100\n",
            "576/576 [==============================] - 0s 42us/step - loss: 0.9483 - acc: 0.6597\n",
            "Epoch 14/100\n",
            "576/576 [==============================] - 0s 39us/step - loss: 0.7919 - acc: 0.6562\n",
            "Epoch 15/100\n",
            "576/576 [==============================] - 0s 37us/step - loss: 0.7482 - acc: 0.6528\n",
            "Epoch 16/100\n",
            "576/576 [==============================] - 0s 41us/step - loss: 0.7198 - acc: 0.6753\n",
            "Epoch 17/100\n",
            "576/576 [==============================] - 0s 42us/step - loss: 0.6913 - acc: 0.6736\n",
            "Epoch 18/100\n",
            "576/576 [==============================] - 0s 45us/step - loss: 0.7183 - acc: 0.6597\n",
            "Epoch 19/100\n",
            "576/576 [==============================] - 0s 40us/step - loss: 0.7369 - acc: 0.6615\n",
            "Epoch 20/100\n",
            "576/576 [==============================] - 0s 42us/step - loss: 0.7499 - acc: 0.6337\n",
            "Epoch 21/100\n",
            "576/576 [==============================] - 0s 40us/step - loss: 0.7354 - acc: 0.6493\n",
            "Epoch 22/100\n",
            "576/576 [==============================] - 0s 38us/step - loss: 0.6583 - acc: 0.6649\n",
            "Epoch 23/100\n",
            "576/576 [==============================] - 0s 46us/step - loss: 0.6487 - acc: 0.6649\n",
            "Epoch 24/100\n",
            "576/576 [==============================] - 0s 43us/step - loss: 0.6660 - acc: 0.6840\n",
            "Epoch 25/100\n",
            "576/576 [==============================] - 0s 44us/step - loss: 0.6356 - acc: 0.6910\n",
            "Epoch 26/100\n",
            "576/576 [==============================] - 0s 40us/step - loss: 0.6554 - acc: 0.6858\n",
            "Epoch 27/100\n",
            "576/576 [==============================] - 0s 44us/step - loss: 0.6194 - acc: 0.6719\n",
            "Epoch 28/100\n",
            "576/576 [==============================] - 0s 37us/step - loss: 0.6243 - acc: 0.6788\n",
            "Epoch 29/100\n",
            "576/576 [==============================] - 0s 44us/step - loss: 0.6115 - acc: 0.6701\n",
            "Epoch 30/100\n",
            "576/576 [==============================] - 0s 50us/step - loss: 0.6049 - acc: 0.6806\n",
            "Epoch 31/100\n",
            "576/576 [==============================] - 0s 49us/step - loss: 0.6050 - acc: 0.6753\n",
            "Epoch 32/100\n",
            "576/576 [==============================] - 0s 46us/step - loss: 0.5977 - acc: 0.6858\n",
            "Epoch 33/100\n",
            "576/576 [==============================] - 0s 44us/step - loss: 0.6195 - acc: 0.6806\n",
            "Epoch 34/100\n",
            "576/576 [==============================] - 0s 46us/step - loss: 0.6159 - acc: 0.6962\n",
            "Epoch 35/100\n",
            "576/576 [==============================] - 0s 43us/step - loss: 0.6035 - acc: 0.6753\n",
            "Epoch 36/100\n",
            "576/576 [==============================] - 0s 49us/step - loss: 0.6096 - acc: 0.6997\n",
            "Epoch 37/100\n",
            "576/576 [==============================] - 0s 56us/step - loss: 0.6422 - acc: 0.6667\n",
            "Epoch 38/100\n",
            "576/576 [==============================] - 0s 50us/step - loss: 0.5987 - acc: 0.7066\n",
            "Epoch 39/100\n",
            "576/576 [==============================] - 0s 55us/step - loss: 0.5959 - acc: 0.7014\n",
            "Epoch 40/100\n",
            "576/576 [==============================] - 0s 39us/step - loss: 0.5774 - acc: 0.6858\n",
            "Epoch 41/100\n",
            "576/576 [==============================] - 0s 45us/step - loss: 0.6179 - acc: 0.6840\n",
            "Epoch 42/100\n",
            "576/576 [==============================] - 0s 45us/step - loss: 0.6154 - acc: 0.7031\n",
            "Epoch 43/100\n",
            "576/576 [==============================] - 0s 51us/step - loss: 0.5965 - acc: 0.6944\n",
            "Epoch 44/100\n",
            "576/576 [==============================] - 0s 45us/step - loss: 0.5881 - acc: 0.7101\n",
            "Epoch 45/100\n",
            "576/576 [==============================] - 0s 48us/step - loss: 0.5824 - acc: 0.6962\n",
            "Epoch 46/100\n",
            "576/576 [==============================] - 0s 53us/step - loss: 0.5902 - acc: 0.6997\n",
            "Epoch 47/100\n",
            "576/576 [==============================] - 0s 50us/step - loss: 0.5694 - acc: 0.6997\n",
            "Epoch 48/100\n",
            "576/576 [==============================] - 0s 47us/step - loss: 0.6147 - acc: 0.6806\n",
            "Epoch 49/100\n",
            "576/576 [==============================] - 0s 40us/step - loss: 0.5812 - acc: 0.7083\n",
            "Epoch 50/100\n",
            "576/576 [==============================] - 0s 38us/step - loss: 0.5733 - acc: 0.7188\n",
            "Epoch 51/100\n",
            "576/576 [==============================] - 0s 41us/step - loss: 0.5952 - acc: 0.7049\n",
            "Epoch 52/100\n",
            "576/576 [==============================] - 0s 45us/step - loss: 0.5563 - acc: 0.7170\n",
            "Epoch 53/100\n",
            "576/576 [==============================] - 0s 47us/step - loss: 0.5911 - acc: 0.6997\n",
            "Epoch 54/100\n",
            "576/576 [==============================] - 0s 40us/step - loss: 0.6121 - acc: 0.6875\n",
            "Epoch 55/100\n",
            "576/576 [==============================] - 0s 45us/step - loss: 0.5797 - acc: 0.7066\n",
            "Epoch 56/100\n",
            "576/576 [==============================] - 0s 45us/step - loss: 0.5773 - acc: 0.7049\n",
            "Epoch 57/100\n",
            "576/576 [==============================] - 0s 49us/step - loss: 0.5720 - acc: 0.7049\n",
            "Epoch 58/100\n",
            "576/576 [==============================] - 0s 48us/step - loss: 0.6038 - acc: 0.7135\n",
            "Epoch 59/100\n",
            "576/576 [==============================] - 0s 45us/step - loss: 0.5705 - acc: 0.6997\n",
            "Epoch 60/100\n",
            "576/576 [==============================] - 0s 50us/step - loss: 0.5566 - acc: 0.7101\n",
            "Epoch 61/100\n",
            "576/576 [==============================] - 0s 48us/step - loss: 0.5877 - acc: 0.6962\n",
            "Epoch 62/100\n",
            "576/576 [==============================] - 0s 46us/step - loss: 0.5847 - acc: 0.6962\n",
            "Epoch 63/100\n",
            "576/576 [==============================] - 0s 38us/step - loss: 0.5642 - acc: 0.7274\n",
            "Epoch 64/100\n",
            "576/576 [==============================] - 0s 37us/step - loss: 0.5633 - acc: 0.7292\n",
            "Epoch 65/100\n",
            "576/576 [==============================] - 0s 40us/step - loss: 0.5670 - acc: 0.7205\n",
            "Epoch 66/100\n",
            "576/576 [==============================] - 0s 40us/step - loss: 0.5508 - acc: 0.7188\n",
            "Epoch 67/100\n",
            "576/576 [==============================] - 0s 47us/step - loss: 0.5739 - acc: 0.6997\n",
            "Epoch 68/100\n",
            "576/576 [==============================] - 0s 37us/step - loss: 0.5552 - acc: 0.7344\n",
            "Epoch 69/100\n",
            "576/576 [==============================] - 0s 37us/step - loss: 0.5441 - acc: 0.7309\n",
            "Epoch 70/100\n",
            "576/576 [==============================] - 0s 41us/step - loss: 0.5633 - acc: 0.6962\n",
            "Epoch 71/100\n",
            "576/576 [==============================] - 0s 41us/step - loss: 0.5543 - acc: 0.7205\n",
            "Epoch 72/100\n",
            "576/576 [==============================] - 0s 43us/step - loss: 0.5501 - acc: 0.7344\n",
            "Epoch 73/100\n",
            "576/576 [==============================] - 0s 45us/step - loss: 0.5488 - acc: 0.7240\n",
            "Epoch 74/100\n",
            "576/576 [==============================] - 0s 43us/step - loss: 0.5460 - acc: 0.7396\n",
            "Epoch 75/100\n",
            "576/576 [==============================] - 0s 50us/step - loss: 0.5688 - acc: 0.7240\n",
            "Epoch 76/100\n",
            "576/576 [==============================] - 0s 47us/step - loss: 0.5900 - acc: 0.7118\n",
            "Epoch 77/100\n",
            "576/576 [==============================] - 0s 48us/step - loss: 0.5411 - acc: 0.7240\n",
            "Epoch 78/100\n",
            "576/576 [==============================] - 0s 47us/step - loss: 0.5829 - acc: 0.7205\n",
            "Epoch 79/100\n",
            "576/576 [==============================] - 0s 50us/step - loss: 0.5553 - acc: 0.7326\n",
            "Epoch 80/100\n",
            "576/576 [==============================] - 0s 47us/step - loss: 0.5410 - acc: 0.7396\n",
            "Epoch 81/100\n",
            "576/576 [==============================] - 0s 48us/step - loss: 0.5647 - acc: 0.7188\n",
            "Epoch 82/100\n",
            "576/576 [==============================] - 0s 46us/step - loss: 0.5477 - acc: 0.7309\n",
            "Epoch 83/100\n",
            "576/576 [==============================] - 0s 49us/step - loss: 0.5259 - acc: 0.7396\n",
            "Epoch 84/100\n",
            "576/576 [==============================] - 0s 54us/step - loss: 0.5446 - acc: 0.7205\n",
            "Epoch 85/100\n",
            "576/576 [==============================] - 0s 39us/step - loss: 0.5807 - acc: 0.6944\n",
            "Epoch 86/100\n",
            "576/576 [==============================] - 0s 45us/step - loss: 0.5766 - acc: 0.7135\n",
            "Epoch 87/100\n",
            "576/576 [==============================] - 0s 40us/step - loss: 0.5302 - acc: 0.7465\n",
            "Epoch 88/100\n",
            "576/576 [==============================] - 0s 52us/step - loss: 0.5681 - acc: 0.7083\n",
            "Epoch 89/100\n",
            "576/576 [==============================] - 0s 48us/step - loss: 0.5488 - acc: 0.7257\n",
            "Epoch 90/100\n",
            "576/576 [==============================] - 0s 43us/step - loss: 0.5541 - acc: 0.7240\n",
            "Epoch 91/100\n",
            "576/576 [==============================] - 0s 46us/step - loss: 0.5727 - acc: 0.7170\n",
            "Epoch 92/100\n",
            "576/576 [==============================] - 0s 44us/step - loss: 0.5260 - acc: 0.7448\n",
            "Epoch 93/100\n",
            "576/576 [==============================] - 0s 49us/step - loss: 0.5227 - acc: 0.7517\n",
            "Epoch 94/100\n",
            "576/576 [==============================] - 0s 58us/step - loss: 0.5551 - acc: 0.7170\n",
            "Epoch 95/100\n",
            "576/576 [==============================] - 0s 52us/step - loss: 0.5764 - acc: 0.7049\n",
            "Epoch 96/100\n",
            "576/576 [==============================] - 0s 46us/step - loss: 0.5555 - acc: 0.7344\n",
            "Epoch 97/100\n",
            "576/576 [==============================] - 0s 50us/step - loss: 0.5603 - acc: 0.7188\n",
            "Epoch 98/100\n",
            "576/576 [==============================] - 0s 50us/step - loss: 0.5313 - acc: 0.7465\n",
            "Epoch 99/100\n",
            "576/576 [==============================] - 0s 42us/step - loss: 0.5275 - acc: 0.7413\n",
            "Epoch 100/100\n",
            "576/576 [==============================] - 0s 45us/step - loss: 0.5203 - acc: 0.7396\n"
          ],
          "name": "stdout"
        }
      ]
    },
    {
      "cell_type": "code",
      "metadata": {
        "id": "kEVpc8qkPVTq",
        "colab_type": "code",
        "colab": {
          "base_uri": "https://localhost:8080/",
          "height": 272
        },
        "outputId": "64047558-1d10-4982-ccfa-bdee463ee4e1"
      },
      "source": [
        "print(my_first_nn.summary())\n",
        "print(my_first_nn.evaluate(X_test, Y_test))"
      ],
      "execution_count": 10,
      "outputs": [
        {
          "output_type": "stream",
          "text": [
            "Model: \"sequential_1\"\n",
            "_________________________________________________________________\n",
            "Layer (type)                 Output Shape              Param #   \n",
            "=================================================================\n",
            "dense_1 (Dense)              (None, 21)                189       \n",
            "_________________________________________________________________\n",
            "dense_2 (Dense)              (None, 1)                 22        \n",
            "=================================================================\n",
            "Total params: 211\n",
            "Trainable params: 211\n",
            "Non-trainable params: 0\n",
            "_________________________________________________________________\n",
            "None\n",
            "192/192 [==============================] - 0s 188us/step\n",
            "[0.6303963760534922, 0.6927083333333334]\n"
          ],
          "name": "stdout"
        }
      ]
    },
    {
      "cell_type": "code",
      "metadata": {
        "id": "R9qVNuLYPYlT",
        "colab_type": "code",
        "colab": {}
      },
      "source": [
        ""
      ],
      "execution_count": 0,
      "outputs": []
    }
  ]
}